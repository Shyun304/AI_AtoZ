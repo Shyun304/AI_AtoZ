{
 "cells": [
  {
   "cell_type": "code",
   "execution_count": 2,
   "metadata": {},
   "outputs": [
    {
     "name": "stdout",
     "output_type": "stream",
     "text": [
      "Collecting selenium\n",
      "  Downloading selenium-4.1.0-py3-none-any.whl (958 kB)\n",
      "Collecting trio-websocket~=0.9\n",
      "  Downloading trio_websocket-0.9.2-py3-none-any.whl (16 kB)\n",
      "Collecting trio~=0.17\n",
      "  Downloading trio-0.19.0-py3-none-any.whl (356 kB)\n",
      "Requirement already satisfied: urllib3[secure]~=1.26 in c:\\users\\lg\\anaconda3\\envs\\py38\\lib\\site-packages (from selenium) (1.26.6)\n",
      "Requirement already satisfied: idna in c:\\users\\lg\\anaconda3\\envs\\py38\\lib\\site-packages (from trio~=0.17->selenium) (3.2)\n",
      "Collecting cffi>=1.14\n",
      "  Downloading cffi-1.15.0-cp38-cp38-win_amd64.whl (179 kB)\n",
      "Collecting sortedcontainers\n",
      "  Downloading sortedcontainers-2.4.0-py2.py3-none-any.whl (29 kB)\n",
      "Collecting sniffio\n",
      "  Downloading sniffio-1.2.0-py3-none-any.whl (10 kB)\n",
      "Requirement already satisfied: attrs>=19.2.0 in c:\\users\\lg\\anaconda3\\envs\\py38\\lib\\site-packages (from trio~=0.17->selenium) (21.2.0)\n",
      "Collecting async-generator>=1.9\n",
      "  Downloading async_generator-1.10-py3-none-any.whl (18 kB)\n",
      "Collecting outcome\n",
      "  Downloading outcome-1.1.0-py2.py3-none-any.whl (9.7 kB)\n",
      "Collecting pycparser\n",
      "  Downloading pycparser-2.21-py2.py3-none-any.whl (118 kB)\n",
      "Collecting wsproto>=0.14\n",
      "  Downloading wsproto-1.0.0-py3-none-any.whl (24 kB)\n",
      "Collecting cryptography>=1.3.4\n",
      "  Downloading cryptography-36.0.1-cp36-abi3-win_amd64.whl (2.2 MB)\n",
      "Collecting pyOpenSSL>=0.14\n",
      "  Downloading pyOpenSSL-22.0.0-py2.py3-none-any.whl (55 kB)\n",
      "Requirement already satisfied: certifi in c:\\users\\lg\\anaconda3\\envs\\py38\\lib\\site-packages (from urllib3[secure]~=1.26->selenium) (2020.6.20)\n",
      "Collecting h11<1,>=0.9.0\n",
      "  Downloading h11-0.13.0-py3-none-any.whl (58 kB)\n",
      "Installing collected packages: pycparser, cffi, sortedcontainers, sniffio, outcome, h11, cryptography, async-generator, wsproto, trio, pyOpenSSL, trio-websocket, selenium\n",
      "Successfully installed async-generator-1.10 cffi-1.15.0 cryptography-36.0.1 h11-0.13.0 outcome-1.1.0 pyOpenSSL-22.0.0 pycparser-2.21 selenium-4.1.0 sniffio-1.2.0 sortedcontainers-2.4.0 trio-0.19.0 trio-websocket-0.9.2 wsproto-1.0.0\n",
      "Collecting bs4\n",
      "  Downloading bs4-0.0.1.tar.gz (1.1 kB)\n",
      "Collecting beautifulsoup4\n",
      "  Downloading beautifulsoup4-4.10.0-py3-none-any.whl (97 kB)\n",
      "Collecting soupsieve>1.2\n",
      "  Downloading soupsieve-2.3.1-py3-none-any.whl (37 kB)\n",
      "Building wheels for collected packages: bs4\n",
      "  Building wheel for bs4 (setup.py): started\n",
      "  Building wheel for bs4 (setup.py): finished with status 'done'\n",
      "  Created wheel for bs4: filename=bs4-0.0.1-py3-none-any.whl size=1272 sha256=07cf28f3962fc8ad36f1fee98bd413521b1314e6e93304c8316e3b0405e9fcab\n",
      "  Stored in directory: c:\\users\\lg\\appdata\\local\\pip\\cache\\wheels\\75\\78\\21\\68b124549c9bdc94f822c02fb9aa3578a669843f9767776bca\n",
      "Successfully built bs4\n",
      "Installing collected packages: soupsieve, beautifulsoup4, bs4\n",
      "Successfully installed beautifulsoup4-4.10.0 bs4-0.0.1 soupsieve-2.3.1\n"
     ]
    }
   ],
   "source": [
    "!pip install selenium\n",
    "!pip install bs4"
   ]
  },
  {
   "cell_type": "code",
   "execution_count": 1,
   "metadata": {},
   "outputs": [],
   "source": [
    "# 요기요 크롤링\n",
    "from selenium import webdriver\n",
    "import time\n",
    "from bs4 import BeautifulSoup\n",
    "import re\n"
   ]
  },
  {
   "cell_type": "code",
   "execution_count": 17,
   "metadata": {},
   "outputs": [
    {
     "name": "stderr",
     "output_type": "stream",
     "text": [
      "C:\\Users\\LG\\AppData\\Local\\Temp/ipykernel_18540/1820238414.py:2: DeprecationWarning: executable_path has been deprecated, please pass in a Service object\n",
      "  driver = webdriver.Chrome('C:/Users/LG/Desktop/chromedriver.exe') # 크롬드라이버 경로 설정\n",
      "C:\\Users\\LG\\AppData\\Local\\Temp/ipykernel_18540/1820238414.py:10: DeprecationWarning: find_element_by_* commands are deprecated. Please use find_element() instead\n",
      "  element = driver.find_element_by_xpath(xpath)\n",
      "C:\\Users\\LG\\AppData\\Local\\Temp/ipykernel_18540/1820238414.py:21: DeprecationWarning: find_element_by_* commands are deprecated. Please use find_element() instead\n",
      "  driver.find_element_by_xpath(search_xpath).click()\n"
     ]
    }
   ],
   "source": [
    "\n",
    "# url입력\n",
    "driver = webdriver.Chrome('C:/Users/LG/Desktop/chromedriver.exe') # 크롬드라이버 경로 설정\n",
    "url = \"https://www.yogiyo.co.kr/\" # 사이트 입력\n",
    "driver.get(url) # 사이트 오픈\n",
    "driver.maximize_window() # 전체장\n",
    "time.sleep(2) # 2초 지연\n",
    "\n",
    "# 검색창 선택\n",
    "xpath = '''//*[@id=\"search\"]/div/form/input'''  # 검색창\n",
    "element = driver.find_element_by_xpath(xpath)\n",
    "element.clear()\n",
    "time.sleep(2)\n",
    "\n",
    "#검색창 입력\n",
    "value = input(\"주소값을 입력하세요\")\n",
    "element.send_keys(value)\n",
    "time.sleep(2)\n",
    "\n",
    "# 조회버튼 클릭\n",
    "search_xpath = '''//*[@id=\"button_search_address\"]/button[2]'''\n",
    "driver.find_element_by_xpath(search_xpath).click()\n",
    "\n",
    "time.sleep(3)\n",
    "\n",
    "# 검색 콤보상자 선택\n",
    "# 선택 : #search > div > form > ul > li:nth-child(3) > a\n",
    "# search_selector = '#search > div > form > ul > li:nth-child(3) > a'\n",
    "# search = driver.find_element_by_css_selector(search_selector)\n",
    "# search.click()\n",
    "# time.sleep(3)\n",
    "\n",
    "driver.execute_script(\"window.scrollTo(0, document.body.scrollHeight)\") # 스크롤을 가장 아래로 내린다\n",
    "time.sleep(2)\n",
    "pre_height = driver.execute_script(\"return document.body.scrollHeight\") # 현재 스크롤 위치 저장\n",
    "\n",
    "while True :\n",
    "    driver.execute_script(\"window.scrollTo(0, document.body.scrollHeight)\")  # 스크롤을 가장 아래로 내린다\n",
    "    cur_height = driver.execute_script(\"return document.body.scrollHeight\")  # 현재 스크롤을 저장한다.\n",
    "    if pre_height == cur_height :\n",
    "        break\n",
    "    pre_height == cur_height\n",
    "\n",
    "\n",
    "time.sleep(3)\n",
    "\n",
    "# 페이지 소스 출력\n",
    "html = driver.page_source\n",
    "html_source = BeautifulSoup(html, 'html.parser')\n",
    "\n",
    "\n",
    "# 데이터 추출\n",
    "restaurant_name = html_source.find_all(\"div\", class_ = \"restaurant-name ng-binding\") #업체명\n",
    "restaurant_score = html_source.find_all(\"span\", class_ = \"ico-star1 ng-binding\") #별점\n",
    "restaurant_review = html_source.find_all(\"span\", attrs = {\"class\":\"review_num ng-binding\", \"ng-show\":\"restaurant.review_count > 0\"}) # 리뷰 수\n",
    "restaurant_ceo_review = html_source.find_all(\"span\", attrs = {\"class\":\"review_num ng-binding\", \"ng-show\":\"restaurant.owner_reply_count > 0\"}) # 사장님 리뷰\n",
    "del_limit = html_source.find_all(\"li\", class_ = \"delivery-time ng-binding\") # 배달소요시간\n",
    "\n",
    "sub_list = []\n",
    "result_list = []\n",
    "#데이터 배열\n",
    "for i, j, k, l, m in zip(restaurant_name, restaurant_score, restaurant_review, restaurant_ceo_review, del_limit) :\n",
    "    sub_list.append(i.string) # 업체명\n",
    "    sub_list.append(j.string.replace(\"★ \",\"\")) # 별점 스코어\n",
    "    sub_list.append(re.sub(\" |\\n|리뷰\",\"\",k.string)) # 리뷰 수\n",
    "    sub_list.append(re.sub(\" |\\n|사장님댓글\",\"\",l.string)) # 사장님 리뷰\n",
    "    sub_list.append(m.string.replace(\"\\n\",\"\").replace(\" \",\"\")) # 배달소요시간\n",
    "    result_list.append(sub_list) # 리스트 요소 추가\n",
    "    sub_list = [] # 변수 초기화\n",
    "\n",
    "time.sleep(30)\n",
    "driver.close() # 크롬드라이버 종료"
   ]
  },
  {
   "cell_type": "code",
   "execution_count": 18,
   "metadata": {},
   "outputs": [
    {
     "data": {
      "text/plain": [
       "[['또래오래-홍은점', '4.8', '1977', '371', '55~65분'],\n",
       " ['네네치킨-홍제1점', '4.8', '1784', '219', '45~55분'],\n",
       " ['청년피자-홍은홍제점', '4.9', '463', '12', '50~60분'],\n",
       " ['원할머니보쌈-홍제역점', '4.4', '494', '1107', '35~45분'],\n",
       " ['롯데리아-홍은포방점', '4.8', '1177', '8', '45~55분'],\n",
       " ['파파존스피자-홍제상명대점', '4.6', '116', '144', '25~35분'],\n",
       " ['피자헛-평창본점', '4.6', '313', '88', '25~35분'],\n",
       " ['페리카나-세검정점', '4.9', '92', '42', '40~50분'],\n",
       " ['놀부부대찌개-홍제점', '4.6', '445', '1', '45~55분'],\n",
       " ['놀부보쌈족발-홍제점', '4.4', '433', '29', '45~55분'],\n",
       " ['도미노피자-평창점', '4.8', '169', '100', '35~45분'],\n",
       " ['본도시락-홍은점', '4.3', '13', '371', '38~48분'],\n",
       " ['CU-홍은두산위브점', '4.9', '29', '2479', '45~55분'],\n",
       " ['코리엔탈깻잎두마리치킨-홍은점', '4.6', '3090', '226', '40~50분'],\n",
       " ['버거킹-홍제역점', '4.8', '1977', '12', '47~57분'],\n",
       " ['또래오래-홍은점', '4.7', '3504', '416', '55~65분'],\n",
       " ['원할머니보쌈-녹번점', '4.9', '226', '54', '45~55분'],\n",
       " ['마왕족발-홍제점', '4.6', '1366', '292', '55~65분'],\n",
       " ['피자나라치킨공주-홍제역점', '4.8', '970', '1373', '36~46분'],\n",
       " ['피자알볼로-홍제점', '4.9', '919', '689', '30~40분'],\n",
       " ['구구족-홍제점', '4.8', '493', '721', '55~65분'],\n",
       " ['비돈이제돈이-은평점', '4.5', '3418', '158', '35~45분'],\n",
       " ['BHC-홍제점', '4.8', '911', '219', '33~43분'],\n",
       " ['걸작떡볶이치킨-서울홍제점', '4.9', '774', '67', '45~55분'],\n",
       " ['처갓집양념치킨-홍제점', '4.8', '1784', '12', '49~59분'],\n",
       " ['네네치킨-홍제1점', '4.9', '788', '1107', '45~55분'],\n",
       " ['파리바게뜨-홍은벽산점', '4.9', '463', '8', '55~65분'],\n",
       " ['청년피자-홍은홍제점', '4.2', '2181', '593', '50~60분'],\n",
       " ['직화신불닭&국물닭발-강북', '4.8', '724', '169', '55~65분'],\n",
       " ['마라탕전문점소림마라-서대문점', '4.4', '494', '144', '50~60분'],\n",
       " ['원할머니보쌈-홍제역점', '4.8', '1177', '585', '35~45분'],\n",
       " ['롯데리아-홍은포방점', '4.6', '116', '189', '45~55분'],\n",
       " ['파파존스피자-홍제상명대점', '4.6', '596', '6', '25~35분'],\n",
       " ['야미가-홍제점', '4.7', '741', '371', '40~50분'],\n",
       " ['배스킨라빈스-홍제삼거리점', '4.6', '313', '4', '51~61분'],\n",
       " ['피자헛-평창본점', '4.8', '345', '980', '25~35분'],\n",
       " ['도미노피자-세종로점', '4.9', '673', '1', '40~50분'],\n",
       " ['신전떡볶이-상명대점', '4.8', '189', '167', '45~55분'],\n",
       " ['윤가네-상명대점', '4.9', '71', '96', '37~47분'],\n",
       " ['땅스부대찌개-서울홍제동점', '4.8', '371', '163', '35~45분'],\n",
       " ['60계-홍제홍은점', '4.6', '1184', '5', '28~38분'],\n",
       " ['굽네치킨&피자-홍제2호점', '4.8', '159', '88', '56~66분'],\n",
       " ['인왕족발', '4.7', '980', '1', '45~55분'],\n",
       " ['이태리정통수제피자-불광점', '5.0', '7', '1', '38~48분'],\n",
       " ['땅스떡볶이-서울홍제동점', '4.9', '92', '2', '35~45분']]"
      ]
     },
     "execution_count": 18,
     "metadata": {},
     "output_type": "execute_result"
    }
   ],
   "source": [
    "result_list"
   ]
  },
  {
   "cell_type": "code",
   "execution_count": 37,
   "metadata": {},
   "outputs": [],
   "source": [
    "import cv2\n",
    "import numpy as np\n",
    "import dlib #68개의 점으로 얼굴을 인식한다\n",
    "\n",
    "cap = cv2.VideoCapture(0)\n",
    "detector = dlib.get_frontal_face_detector()\n",
    "predictor = dlib.shape_predictor(\"shape_predictor_68_face_landmarks.dat\")\n",
    "\n",
    "while True:\n",
    "    _, frame = cap.read()\n",
    "    gray = cv2.cvtColor(frame, cv2.COLOR_BGR2GRAY)\n",
    "    faces = detector(gray)\n",
    "    for face in faces:\n",
    "        x, y = face.left(), face.top()\n",
    "        x1, y1 = face.right(), face.bottom()\n",
    "        cv2.rectangle(frame, (x, y), (x1, y1), (0, 255, 0), 2)\n",
    "\n",
    "    landmarks = predictor(gray, face)\n",
    "    left_point = (landmarks.part(36).x, landmarks.part(36).y)\n",
    "    right_point = (landmarks.part(39).x, landmarks.part(39).y)\n",
    "    hor_line = cv2.line(frame, left_point, right_point, (0, 255, 0), 2)\n",
    "    \n",
    "    cv2.imshow(\"Frame\", frame)\n",
    "    key = cv2.waitKey(1)\n",
    "    if key == 27:\n",
    "        break\n",
    "        \n",
    "cap.release()\n",
    "cv2.destroyAllWindows()"
   ]
  },
  {
   "cell_type": "code",
   "execution_count": 43,
   "metadata": {},
   "outputs": [
    {
     "ename": "error",
     "evalue": "OpenCV(4.5.3) C:\\Users\\runneradmin\\AppData\\Local\\Temp\\pip-req-build-u4kjpz2z\\opencv\\modules\\imgproc\\src\\shapedescr.cpp:315: error: (-215:Assertion failed) npoints >= 0 && (depth == CV_32F || depth == CV_32S) in function 'cv::contourArea'\n",
     "output_type": "error",
     "traceback": [
      "\u001b[1;31m---------------------------------------------------------------------------\u001b[0m",
      "\u001b[1;31merror\u001b[0m                                     Traceback (most recent call last)",
      "\u001b[1;32m~\\AppData\\Local\\Temp/ipykernel_4368/2491074420.py\u001b[0m in \u001b[0;36m<module>\u001b[1;34m\u001b[0m\n\u001b[0;32m     15\u001b[0m     \u001b[0m_\u001b[0m\u001b[1;33m,\u001b[0m \u001b[0mthreshold\u001b[0m \u001b[1;33m=\u001b[0m \u001b[0mcv2\u001b[0m\u001b[1;33m.\u001b[0m\u001b[0mthreshold\u001b[0m\u001b[1;33m(\u001b[0m\u001b[0mgray_roi\u001b[0m\u001b[1;33m,\u001b[0m \u001b[1;36m5\u001b[0m\u001b[1;33m,\u001b[0m \u001b[1;36m255\u001b[0m\u001b[1;33m,\u001b[0m \u001b[0mcv2\u001b[0m\u001b[1;33m.\u001b[0m\u001b[0mTHRESH_BINARY_INV\u001b[0m\u001b[1;33m)\u001b[0m\u001b[1;33m\u001b[0m\u001b[1;33m\u001b[0m\u001b[0m\n\u001b[0;32m     16\u001b[0m     \u001b[0m_\u001b[0m\u001b[1;33m,\u001b[0m \u001b[0mcontours\u001b[0m \u001b[1;33m=\u001b[0m \u001b[0mcv2\u001b[0m\u001b[1;33m.\u001b[0m\u001b[0mfindContours\u001b[0m\u001b[1;33m(\u001b[0m\u001b[0mthreshold\u001b[0m\u001b[1;33m,\u001b[0m \u001b[0mcv2\u001b[0m\u001b[1;33m.\u001b[0m\u001b[0mRETR_TREE\u001b[0m\u001b[1;33m,\u001b[0m \u001b[0mcv2\u001b[0m\u001b[1;33m.\u001b[0m\u001b[0mCHAIN_APPROX_SIMPLE\u001b[0m\u001b[1;33m)\u001b[0m\u001b[1;33m\u001b[0m\u001b[1;33m\u001b[0m\u001b[0m\n\u001b[1;32m---> 17\u001b[1;33m     \u001b[0mcontours\u001b[0m \u001b[1;33m=\u001b[0m \u001b[0msorted\u001b[0m\u001b[1;33m(\u001b[0m\u001b[0mcontours\u001b[0m\u001b[1;33m,\u001b[0m \u001b[0mkey\u001b[0m\u001b[1;33m=\u001b[0m\u001b[1;32mlambda\u001b[0m \u001b[0mx\u001b[0m\u001b[1;33m:\u001b[0m \u001b[0mcv2\u001b[0m\u001b[1;33m.\u001b[0m\u001b[0mcontourArea\u001b[0m\u001b[1;33m(\u001b[0m\u001b[0mx\u001b[0m\u001b[1;33m)\u001b[0m\u001b[1;33m,\u001b[0m \u001b[0mreverse\u001b[0m\u001b[1;33m=\u001b[0m\u001b[1;32mTrue\u001b[0m\u001b[1;33m)\u001b[0m\u001b[1;33m\u001b[0m\u001b[1;33m\u001b[0m\u001b[0m\n\u001b[0m\u001b[0;32m     18\u001b[0m \u001b[1;33m\u001b[0m\u001b[0m\n\u001b[0;32m     19\u001b[0m     \u001b[1;32mfor\u001b[0m \u001b[0mcnt\u001b[0m \u001b[1;32min\u001b[0m \u001b[0mcontours\u001b[0m\u001b[1;33m:\u001b[0m\u001b[1;33m\u001b[0m\u001b[1;33m\u001b[0m\u001b[0m\n",
      "\u001b[1;32m~\\AppData\\Local\\Temp/ipykernel_4368/2491074420.py\u001b[0m in \u001b[0;36m<lambda>\u001b[1;34m(x)\u001b[0m\n\u001b[0;32m     15\u001b[0m     \u001b[0m_\u001b[0m\u001b[1;33m,\u001b[0m \u001b[0mthreshold\u001b[0m \u001b[1;33m=\u001b[0m \u001b[0mcv2\u001b[0m\u001b[1;33m.\u001b[0m\u001b[0mthreshold\u001b[0m\u001b[1;33m(\u001b[0m\u001b[0mgray_roi\u001b[0m\u001b[1;33m,\u001b[0m \u001b[1;36m5\u001b[0m\u001b[1;33m,\u001b[0m \u001b[1;36m255\u001b[0m\u001b[1;33m,\u001b[0m \u001b[0mcv2\u001b[0m\u001b[1;33m.\u001b[0m\u001b[0mTHRESH_BINARY_INV\u001b[0m\u001b[1;33m)\u001b[0m\u001b[1;33m\u001b[0m\u001b[1;33m\u001b[0m\u001b[0m\n\u001b[0;32m     16\u001b[0m     \u001b[0m_\u001b[0m\u001b[1;33m,\u001b[0m \u001b[0mcontours\u001b[0m \u001b[1;33m=\u001b[0m \u001b[0mcv2\u001b[0m\u001b[1;33m.\u001b[0m\u001b[0mfindContours\u001b[0m\u001b[1;33m(\u001b[0m\u001b[0mthreshold\u001b[0m\u001b[1;33m,\u001b[0m \u001b[0mcv2\u001b[0m\u001b[1;33m.\u001b[0m\u001b[0mRETR_TREE\u001b[0m\u001b[1;33m,\u001b[0m \u001b[0mcv2\u001b[0m\u001b[1;33m.\u001b[0m\u001b[0mCHAIN_APPROX_SIMPLE\u001b[0m\u001b[1;33m)\u001b[0m\u001b[1;33m\u001b[0m\u001b[1;33m\u001b[0m\u001b[0m\n\u001b[1;32m---> 17\u001b[1;33m     \u001b[0mcontours\u001b[0m \u001b[1;33m=\u001b[0m \u001b[0msorted\u001b[0m\u001b[1;33m(\u001b[0m\u001b[0mcontours\u001b[0m\u001b[1;33m,\u001b[0m \u001b[0mkey\u001b[0m\u001b[1;33m=\u001b[0m\u001b[1;32mlambda\u001b[0m \u001b[0mx\u001b[0m\u001b[1;33m:\u001b[0m \u001b[0mcv2\u001b[0m\u001b[1;33m.\u001b[0m\u001b[0mcontourArea\u001b[0m\u001b[1;33m(\u001b[0m\u001b[0mx\u001b[0m\u001b[1;33m)\u001b[0m\u001b[1;33m,\u001b[0m \u001b[0mreverse\u001b[0m\u001b[1;33m=\u001b[0m\u001b[1;32mTrue\u001b[0m\u001b[1;33m)\u001b[0m\u001b[1;33m\u001b[0m\u001b[1;33m\u001b[0m\u001b[0m\n\u001b[0m\u001b[0;32m     18\u001b[0m \u001b[1;33m\u001b[0m\u001b[0m\n\u001b[0;32m     19\u001b[0m     \u001b[1;32mfor\u001b[0m \u001b[0mcnt\u001b[0m \u001b[1;32min\u001b[0m \u001b[0mcontours\u001b[0m\u001b[1;33m:\u001b[0m\u001b[1;33m\u001b[0m\u001b[1;33m\u001b[0m\u001b[0m\n",
      "\u001b[1;31merror\u001b[0m: OpenCV(4.5.3) C:\\Users\\runneradmin\\AppData\\Local\\Temp\\pip-req-build-u4kjpz2z\\opencv\\modules\\imgproc\\src\\shapedescr.cpp:315: error: (-215:Assertion failed) npoints >= 0 && (depth == CV_32F || depth == CV_32S) in function 'cv::contourArea'\n"
     ]
    }
   ],
   "source": [
    "import cv2\n",
    "import numpy as np\n",
    "\n",
    "cap = cv2.VideoCapture(0)\n",
    "\n",
    "while True:\n",
    "    ret, frame = cap.read()\n",
    "    \n",
    "    roi = frame\n",
    "    rows, cols, _ = roi.shape\n",
    "    \n",
    "    gray_roi = cv2.cvtColor(roi, cv2.COLOR_BGR2GRAY)\n",
    "    gray_roi = cv2.GaussianBlur(gray_roi, (7,7), 0)\n",
    "    \n",
    "    _, threshold = cv2.threshold(gray_roi, 5, 255, cv2.THRESH_BINARY_INV)\n",
    "    _, contours = cv2.findContours(threshold, cv2.RETR_TREE, cv2.CHAIN_APPROX_SIMPLE)\n",
    "    contours = sorted(contours, key=lambda x: cv2.contourArea(x), reverse=True)\n",
    "    \n",
    "    for cnt in contours:\n",
    "        (x,y,w,h) = cv2.boundingRect(cnt)\n",
    "        cv2.rectangle(roi, (x,y), (x+w, y+h), (255, 0, 0), 2)\n",
    "        cv2.line(roi, (x+int(w/2), 0), (x+int(w/2), rows), (0, 255, 0), 2)\n",
    "        cv2.line(roi, (0, y+int(h/2), (cols, y+int(h/2)), (0,255,0), 2))\n",
    "        #cv2.drawContours(roi, [cnt], -1, (0,0,255),3)\n",
    "        break\n",
    "    \n",
    "    cv2.imshow(\"Threshold\", threshold)\n",
    "    cv2.imshow(\"gray roi\", gray_roi)\n",
    "    cv2.imshow(\"Roi\", roi)\n",
    "    key = cv2.waitKey(30)\n",
    "    if key == 27:\n",
    "        break\n",
    "        \n",
    "cv2.destroyAllWindows()"
   ]
  },
  {
   "cell_type": "code",
   "execution_count": 18,
   "metadata": {},
   "outputs": [
    {
     "name": "stdout",
     "output_type": "stream",
     "text": [
      "Processing c:\\users\\lg\\onedrive - sangmyung university\\shyungit\\ai_atoz\\dlib-19.19.0-cp38-cp38-win_amd64.whl\n",
      "Installing collected packages: dlib\n",
      "Successfully installed dlib-19.19.0\n"
     ]
    }
   ],
   "source": [
    "# !pip install cmake\n",
    "!pip install dlib-19.19.0-cp38-cp38-win_amd64.whl\n"
   ]
  },
  {
   "cell_type": "code",
   "execution_count": null,
   "metadata": {},
   "outputs": [],
   "source": []
  }
 ],
 "metadata": {
  "interpreter": {
   "hash": "205c232381147f1aeed254cad78312ecffe0f61c54d117bca0a3bde76917375f"
  },
  "kernelspec": {
   "display_name": "Python 3.8.11 ('py38')",
   "language": "python",
   "name": "python3"
  },
  "language_info": {
   "codemirror_mode": {
    "name": "ipython",
    "version": 3
   },
   "file_extension": ".py",
   "mimetype": "text/x-python",
   "name": "python",
   "nbconvert_exporter": "python",
   "pygments_lexer": "ipython3",
   "version": "3.8.11"
  },
  "orig_nbformat": 4
 },
 "nbformat": 4,
 "nbformat_minor": 2
}
